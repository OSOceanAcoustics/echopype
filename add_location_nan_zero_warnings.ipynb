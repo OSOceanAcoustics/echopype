{
  "cells": [
    {
      "cell_type": "code",
      "execution_count": 1,
      "metadata": {},
      "outputs": [],
      "source": [
        "# Pip install necessary libraries\n",
        "#%pip install echopype s3fs boto3==1.34.51 numpy==1.24.4 xarray==2022.12.0"
      ]
    },
    {
      "cell_type": "code",
      "execution_count": 2,
      "metadata": {},
      "outputs": [],
      "source": [
        "# Import necessary libraries\n",
        "import s3fs\n",
        "import boto3\n",
        "import echopype as ep\n",
        "from botocore import UNSIGNED\n",
        "from botocore.config import Config"
      ]
    },
    {
      "cell_type": "code",
      "execution_count": 3,
      "metadata": {},
      "outputs": [],
      "source": [
        "# Grab from S3 and parse EK60 \n",
        "s3 = boto3.client('s3', config=Config(signature_version=UNSIGNED))\n",
        "s3_file_system = s3fs.S3FileSystem(anon=True)\n",
        "\n",
        "bucket_name = 'noaa-wcsd-pds'\n",
        "ship_name = 'Albatross_Iv'\n",
        "cruise_name = 'AL0403'\n",
        "sensor_name = 'EK60'\n",
        "file_name = \"L0010-D20040416-T094042-EK60.raw\"\n",
        "\n",
        "raw_file_s3_path = f\"s3://{bucket_name}/data/raw/{ship_name}/{cruise_name}/{sensor_name}/{file_name}\"\n",
        "echodata = ep.open_raw(raw_file_s3_path, sonar_model=sensor_name, use_swap=True, storage_options={'anon': True})"
      ]
    },
    {
      "cell_type": "code",
      "execution_count": 4,
      "metadata": {},
      "outputs": [
        {
          "name": "stdout",
          "output_type": "stream",
          "text": [
            "Latitude Values Pre Interp (lowest 5): [ 0.          0.         43.68361    43.68362333 43.68362333]\n"
          ]
        },
        {
          "name": "stderr",
          "output_type": "stream",
          "text": [
            "2024-04-04 22:09:35,389:echopype.consolidate.api:WARNING: The echodata[\"Platform\"][\"latitude\"] array contains zeros. Interpolation may be negatively impacted, so the user should handle these values.\n",
            "2024-04-04 22:09:35,390:echopype.consolidate.api:WARNING: The echodata[\"Platform\"][\"longitude\"] array contains zeros. Interpolation may be negatively impacted, so the user should handle these values.\n"
          ]
        },
        {
          "name": "stdout",
          "output_type": "stream",
          "text": [
            "Latitude Values Post Interp (lowest 5): [19.57221436 23.97964969 43.68361412 43.68363238 43.68365699]\n"
          ]
        }
      ],
      "source": [
        "# Turn on Echopype Verbosity\n",
        "ep.utils.log.verbose(override=False)\n",
        "\n",
        "# Print out pre interpolated latitudes\n",
        "latitude = echodata.platform.latitude.values\n",
        "latitude_values = latitude.copy()\n",
        "latitude_values.sort()\n",
        "print(\"Latitude Values Pre Interp (lowest 5):\", latitude_values[:5])\n",
        "\n",
        "ds_sv = ep.calibrate.compute_Sv(echodata)\n",
        "ds_sv_location = ep.consolidate.add_location(ds_sv, echodata)\n",
        "\n",
        "# Print out post interpolated latitudes\n",
        "latitude_2 = ds_sv_location.latitude.values\n",
        "latitude_values_2 = latitude_2.copy()\n",
        "latitude_values_2.sort()\n",
        "print(\"Latitude Values Post Interp (lowest 5):\", latitude_values_2[:5])"
      ]
    }
  ],
  "metadata": {
    "kernelspec": {
      "display_name": "echopype",
      "language": "python",
      "name": "python3"
    },
    "language_info": {
      "codemirror_mode": {
        "name": "ipython",
        "version": 3
      },
      "file_extension": ".py",
      "mimetype": "text/x-python",
      "name": "python",
      "nbconvert_exporter": "python",
      "pygments_lexer": "ipython3",
      "version": "3.9.18"
    }
  },
  "nbformat": 4,
  "nbformat_minor": 2
}
