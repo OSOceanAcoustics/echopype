{
 "cells": [
  {
   "cell_type": "markdown",
   "id": "add39bd9",
   "metadata": {},
   "source": [
    "(data-format:v0.5.x-to-v0.6.0-changes)=\n",
    "# v0.5.x to v0.6.0 changes"
   ]
  },
  {
   "cell_type": "markdown",
   "id": "4a94c7d8",
   "metadata": {},
   "source": [
    "In order to enhance the compliance of echopype-generated datasets to the SONAR-netCDF4 version 1 convention, a number of changes were introduced in echopype v0.6.0 that create incompatibilities with the data structure used in previous versions.\n",
    "\n",
    "To ease the transition, the [`open_converted`](function:open-converted) function is able to open files previously converted using echopype v0.5.x (0.5.0 to 0.5.6) into the v0.6.0 data format, encapsulated in the `EchoData` object."
   ]
  },
  {
   "cell_type": "markdown",
   "id": "cb05cd0d",
   "metadata": {},
   "source": [
    "Key changes involved renaming and restructuring a couple of groups, and renaming some coordinates and data variables, as summarized below:\n",
    "\n",
    "| Type       | v0.5.x          | v0.6.0                 | Rationale and notes      |\n",
    "| :--------- | :-------------- | :--------------------- | :----------------------- |\n",
    "| Group      | `Beam`          | `Sonar/Beam_group1`    | Convention compliance |\n",
    "| Group      | `Beam_power`    | `Sonar/Beam_group2`    | Convention compliance |\n",
    "| Group      | `Vendor`        | `Vendor_specific`      | Convention compliance |\n",
    "| Coordinate | `frequency`     | `channel`              | Accommodate channels with duplicated frequencies. The new variable `frequency_nominal` was introduced |\n",
    "| Coordinate | `range_bin`     | `range_sample`         | Better intuitive understanding of data |\n",
    "| Coordinate | `quadrant`      | `beam`                 | Convention compliance. This `Beam_groupX` coordinate was added when it did not exist. |\n",
    "| Coordinate | `location_time` | `time1`                | Convention compliance. In `Platform` group |\n",
    "| Coordinate | `mru_time`      | `time2`                | Convention compliance. In `Platform` group |\n",
    "| Variable   | `heave`         | `vertical_offset`      | Convention compliance. In `Platform` group |\n",
    "| Variable   | `src_filenames` | `source_filenames`     | Convention compliance. In `Provenance` group. Also converted from global attribute to variable |\n",
    "\n",
    "Other changes included:\n",
    "- Adding previously missing, mandatory convention variables. When no data are available to populate them, these are filled with null (`NaN`) values.\n",
    "- Moving variables from one group to another, particularly from the Beam groups to `Platform` and `Vendor`. These variables were not typically not part of the convention.\n",
    "- The Beam_groupX `beamwidth_receive_athwartship` and `beamwidth_transmit_athwartship` variables were consolidated into `beamwidth_twoway_athwartship`. Likewise for `beamwidth_receive_alongship` and `beamwidth_transmit_alongship`.\n",
    "\n",
    "More details, including Pull Requests and discussions related to these changes, can be found in the [Release notes](whats-new.html#v0-6-0-2022-may-26)."
   ]
  },
  {
   "cell_type": "markdown",
   "id": "5042d43b",
   "metadata": {},
   "source": [
    "## Convert old files to v0.6.0 format"
   ]
  },
  {
   "cell_type": "markdown",
   "id": "1cd1f90e",
   "metadata": {},
   "source": [
    "To convert data files from v0.5.x to v0.6.0 format, simply open the old files and re-save them:\n",
    "\n",
    "```python\n",
    "import echopype as ep\n",
    "# open old v0.5.x file and convert it into a v0.6.0-format EchoData object\n",
    "ed = ep.open_converted(\"old_format_file.nc\")\n",
    "ed.to_netcdf(\"new_format_file.nc\")\n",
    "```"
   ]
  },
  {
   "cell_type": "markdown",
   "id": "aa4431f6",
   "metadata": {},
   "source": [
    ":::{Attention}\n",
    "In v0.5.x, the latitude and longitude data in the `Platform` group are selected from a subset of NMEA sentences `{\"GGA\", \"GLL\", \"RMC\"}`. This behavior is removed in v0.6.0 so that the latitude and longitude data in the `Platform` group is a lossless (but interpreted) copy of those in the `Platform/NMEA` group.\n",
    ":::"
   ]
  },
  {
   "cell_type": "markdown",
   "id": "3ad661ae",
   "metadata": {},
   "source": [
    "## v0.5.x data format"
   ]
  },
  {
   "cell_type": "markdown",
   "id": "74d28caf",
   "metadata": {},
   "source": [
    "Below we provide a sample of the v0.5.x data format via a printout of the previous `EchoData` object.\n",
    "\n",
    "Compare this with the [v0.6.0 `EchoData` object](data-format:echodata-object) to see the changes listed in the table above."
   ]
  },
  {
   "cell_type": "code",
   "execution_count": 1,
   "id": "9277bcf9",
   "metadata": {
    "tags": [
     "remove-input"
    ]
   },
   "outputs": [
    {
     "data": {
      "text/html": [
       "\n",
       "        <iframe\n",
       "            width=\"100%\"\n",
       "            height=\"400\"\n",
       "            src=\"_static/echodata_sample_v0.5.x.html?style=border%3A+none%3B\"\n",
       "            frameborder=\"0\"\n",
       "            allowfullscreen\n",
       "            \n",
       "        ></iframe>\n",
       "        "
      ],
      "text/plain": [
       "<IPython.lib.display.IFrame at 0x7f8c3af91eb0>"
      ]
     },
     "execution_count": 1,
     "metadata": {},
     "output_type": "execute_result"
    }
   ],
   "source": [
    "from IPython.display import IFrame\n",
    "\n",
    "IFrame(src=\"_static/echodata_sample_v0.5.x.html\", width=\"100%\", height=\"400\", style=\"border: none;\")"
   ]
  },
  {
   "cell_type": "code",
   "execution_count": null,
   "id": "5c2b0a20",
   "metadata": {},
   "outputs": [],
   "source": []
  }
 ],
 "metadata": {
  "celltoolbar": "Tags",
  "kernelspec": {
   "display_name": "Python 3 (ipykernel)",
   "language": "python",
   "name": "python3"
  },
  "language_info": {
   "codemirror_mode": {
    "name": "ipython",
    "version": 3
   },
   "file_extension": ".py",
   "mimetype": "text/x-python",
   "name": "python",
   "nbconvert_exporter": "python",
   "pygments_lexer": "ipython3",
   "version": "3.9.7"
  }
 },
 "nbformat": 4,
 "nbformat_minor": 5
}
