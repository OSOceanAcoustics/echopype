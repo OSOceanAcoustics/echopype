{
 "cells": [
  {
   "cell_type": "markdown",
   "id": "6c405db9",
   "metadata": {},
   "source": [
    "(data-format:v0.5.x-to-v0.6.0-changes)=\n",
    "# v0.5.x to v0.6.0 changes"
   ]
  },
  {
   "cell_type": "markdown",
   "id": "6829666a",
   "metadata": {},
   "source": [
    "In order to enhance the compliance of echopype-generated datasets to the SONAR-netCDF4 convention, a number of changes were introduced in echopype v0.6.0.\n",
    "\n",
    "To ease the transition, the [`open_converted` function](function:open-converted) is able to open files already converted using echopype v0.5.x into the v0.6.0 data format, encapsulated in the `EchoData` object."
   ]
  },
  {
   "cell_type": "markdown",
   "id": "69bf429d",
   "metadata": {},
   "source": [
    "The changes involved restructuring a couple of groups and renaming a number of coordinates and data variables, as summarized below:\n",
    "\n",
    "| Type       | v0.5.x          | v0.6.0                 | Rationale       |\n",
    "| :--------- | :-------------- | :--------------------- | :-------------- |\n",
    "| Group      | `Beam`          | `Sonar/Beam_group1`    | Convention compliance |\n",
    "| Group      | `Beam_power`    | `Sonar/Beam_group2`    | Convention compliance |\n",
    "| Coordinate | `frequency`     | `channel`              | Avoid problems with channels with duplicated frequencies |\n",
    "| Coordinate | `range_bin`     | `range_sample`         | Better intuitive understanding of data |\n",
    "| Coordinate | `quadrant`      | `beam`                 | Convention compliance |\n",
    "| Coordinate | `location_time` | `time1`                | Convention compliance |\n",
    "| Coordinate | `mru_time`      | `time2`                | Convention compliance |\n",
    "| Variable   | `heave`         | `vertical_offset`      | Convention compliance |\n",
    "| Variable   | `src_filenames` | `source_filenames`     | Convention compliance |\n",
    "\n",
    "The PRs and discussions related to these changes can be found in the [Release notes](PUT LINK)."
   ]
  },
  {
   "cell_type": "markdown",
   "id": "dadac7db",
   "metadata": {},
   "source": [
    "## Convert v0.5.x files to v0.6.0 format"
   ]
  },
  {
   "cell_type": "markdown",
   "id": "52c972ce",
   "metadata": {},
   "source": [
    "To convert data files from v0.5.x to v0.6.0 format, simply open the old files and re-save them, like below:\n",
    "\n",
    "```\n",
    "import echopype as ep\n",
    "ed = ep.open_converted(\"old_format_file.nc\")  # open old files in v0.6.0 format\n",
    "ed.to_netcdf(\"new_format_file.nc\")  # re-save data\n",
    "```"
   ]
  },
  {
   "cell_type": "markdown",
   "id": "b7d8e075",
   "metadata": {},
   "source": [
    "## v0.5.x data format"
   ]
  },
  {
   "cell_type": "markdown",
   "id": "99d7e3a0",
   "metadata": {},
   "source": [
    "Below we provide a sample of the v0.5.x data format via a printout of the previous `EchoData` object.\n",
    "\n",
    "Compare this with the [v0.6.0 `EchoData` object](data-format:echodata-object) to see the changes listed in the table above."
   ]
  },
  {
   "cell_type": "code",
   "execution_count": 1,
   "id": "748ab491",
   "metadata": {
    "tags": [
     "remove-input"
    ]
   },
   "outputs": [
    {
     "data": {
      "text/html": [
       "\n",
       "        <iframe\n",
       "            width=\"100%\"\n",
       "            height=\"400\"\n",
       "            src=\"_static/echodata_sample_v0.5.x.html?style=border%3A+none%3B\"\n",
       "            frameborder=\"0\"\n",
       "            allowfullscreen\n",
       "            \n",
       "        ></iframe>\n",
       "        "
      ],
      "text/plain": [
       "<IPython.lib.display.IFrame at 0x7f8c3af91eb0>"
      ]
     },
     "execution_count": 1,
     "metadata": {},
     "output_type": "execute_result"
    }
   ],
   "source": [
    "from IPython.display import IFrame\n",
    "\n",
    "IFrame(src=\"_static/echodata_sample_v0.5.x.html\", width=\"100%\", height=\"400\", style=\"border: none;\")"
   ]
  },
  {
   "cell_type": "code",
   "execution_count": null,
   "id": "26b99928",
   "metadata": {},
   "outputs": [],
   "source": []
  }
 ],
 "metadata": {
  "celltoolbar": "Tags",
  "kernelspec": {
   "display_name": "Python 3 (ipykernel)",
   "language": "python",
   "name": "python3"
  },
  "language_info": {
   "codemirror_mode": {
    "name": "ipython",
    "version": 3
   },
   "file_extension": ".py",
   "mimetype": "text/x-python",
   "name": "python",
   "nbconvert_exporter": "python",
   "pygments_lexer": "ipython3",
   "version": "3.9.7"
  }
 },
 "nbformat": 4,
 "nbformat_minor": 5
}
