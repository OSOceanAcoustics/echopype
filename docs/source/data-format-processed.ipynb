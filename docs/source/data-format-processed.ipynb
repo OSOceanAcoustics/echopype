{
 "cells": [
  {
   "cell_type": "markdown",
   "metadata": {},
   "source": [
    "(data-format:processed-data)=\n",
    "# Processed data"
   ]
  },
  {
   "cell_type": "markdown",
   "metadata": {},
   "source": [
    "Once data is processed (for example, calibrated using ``compute_Sv``),\n",
    "the outputs are in the form of a generic [xarray Dataset](https://docs.xarray.dev/en/stable/user-guide/data-structures.html#dataset).\n",
    "For such processed data, we currently do not follow any specific conventions,\n",
    "but we retain provenance information in the dataset and also include\n",
    "variables that were used in the processing.\n",
    "\n",
    "As we move upward in the processing chain, we will continue to retain\n",
    "provenance information in the processed datasets.\n",
    "However, whether and how data variables used in the processing will be\n",
    "stored remain to be determined."
   ]
  },
  {
   "cell_type": "markdown",
   "metadata": {},
   "source": [
    "## Range of echo samples"
   ]
  },
  {
   "cell_type": "markdown",
   "metadata": {},
   "source": [
    "The calibration operation includes the computation of a new data variable, `echo_range`, which is the physically meaningful range (in meters) of the echo samples, from the `range_sample` dimension in the raw data. Recall that `range_sample` contains 0-based indices of the digitized sample numbers of the received echoes. This computation requires knowledge of the sound speed, so that the sampling interval (the variable `sample_interval` in a `Sonar/Beam_groupX` group) can be converted to distance along range in meters, i.e. like below:\n",
    "\n",
    "$$\n",
    "\\Delta r = c \\tau / 2\n",
    "$$\n",
    "\n",
    "where $\\Delta r$ is the along-range \"length\" of each sample, $\\tau$ is the `sample_interval`, and $c$ is sound speed. The factor 2 is due to the round-trip travel from the transmitter to the scatterer and back to the receiver.\n",
    "\n",
    "Because `sample_interval` can be different for each echosounder frequency channel, the resulting ``echo_range`` arrays can be different across frequency channels even if they have the same number of digitized samples. \n",
    "\n",
    "<!-- This can be seen in the diagram below.\n",
    "\n",
    "### ADD FIGURE -->"
   ]
  },
  {
   "cell_type": "markdown",
   "metadata": {},
   "source": [
    "<!-- ### ADD FIGURE -->"
   ]
  }
 ],
 "metadata": {
  "celltoolbar": "Tags",
  "interpreter": {
   "hash": "a292767406182d99a2458e67c2d2e96b524510c4a2166b4b423439fe75c32190"
  },
  "kernelspec": {
   "display_name": "Python 3 (ipykernel)",
   "language": "python",
   "name": "python3"
  },
  "language_info": {
   "codemirror_mode": {
    "name": "ipython",
    "version": 3
   },
   "file_extension": ".py",
   "mimetype": "text/x-python",
   "name": "python",
   "nbconvert_exporter": "python",
   "pygments_lexer": "ipython3",
   "version": "3.9.7"
  }
 },
 "nbformat": 4,
 "nbformat_minor": 4
}
