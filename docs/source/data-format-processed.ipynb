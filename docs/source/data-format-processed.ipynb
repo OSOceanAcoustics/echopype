{
 "cells": [
  {
   "cell_type": "markdown",
   "metadata": {},
   "source": [
    "# Processed data\n",
    "\n",
    "Once data is processed (for example, calibrated using ``compute_Sv``),\n",
    "the outputs are in the form of a generic xarray DataSet.\n",
    "For such processed data, we currently do not follow any specific conventions,\n",
    "but we retain provenance information in the dataset and also include\n",
    "variables that were used in the processing.\n",
    "\n",
    "As we move upward in the processing chain, we will continue to retain\n",
    "provenance information in the processed datasets.\n",
    "However, whether and how data variables used in the processing will be\n",
    "stored remain to be determined."
   ]
  },
  {
   "cell_type": "markdown",
   "metadata": {},
   "source": [
    "## Range of echo samples\n",
    "\n",
    "Part of the calibration operation is to compute a new data variable ``echo_range``,\n",
    "which is the physically meaningful range (in meters) of the echo samples, from\n",
    "the ``range_sample`` dimension in the raw data.\n",
    "Recall that the ``range_sample`` are 0-based indices of the digitized sample numbers\n",
    "of the received echoes.\n",
    "This computation requires knowledge of the sound speed, so that the digitization\n",
    "interval (the variable ``sample_interval`` in ``EchoData[\"Beam_groupX\"]``)\n",
    "can be converted to distance along range in meters.\n",
    "\n",
    "Because ``sample_interval`` can be different for each echosounder frequency channel,\n",
    "the resulting ``echo_range`` can be different across frequency channels even if\n",
    "they have the same number of digitized samples (i.e., no NaNs in ``backscatter_r/i``).\n",
    "This can be seen in the diagram below."
   ]
  },
  {
   "cell_type": "markdown",
   "metadata": {},
   "source": [
    ":::{attention}\n",
    "Prior to v0.6.0, the ``range_sample`` dimension was called ``range_bin``,\n",
    "and the ``echo_range`` variable was called ``range``.\n",
    "These name changes were done in order to make them more intuitive to understand\n",
    "and avoid using the Python reserved vocabulary.\n",
    ":::"
   ]
  },
  {
   "cell_type": "code",
   "execution_count": null,
   "metadata": {
    "vscode": {
     "languageId": "plaintext"
    }
   },
   "outputs": [],
   "source": []
  }
 ],
 "metadata": {
  "celltoolbar": "Tags",
  "interpreter": {
   "hash": "a292767406182d99a2458e67c2d2e96b524510c4a2166b4b423439fe75c32190"
  },
  "kernelspec": {
   "display_name": "Python [conda env:ep38]",
   "language": "python",
   "name": "python3"
  },
  "language_info": {
   "codemirror_mode": {
    "name": "ipython",
    "version": 3
   },
   "file_extension": ".py",
   "mimetype": "text/x-python",
   "name": "python",
   "nbconvert_exporter": "python",
   "pygments_lexer": "ipython3",
   "version": "3.8.10"
  }
 },
 "nbformat": 4,
 "nbformat_minor": 4
}
