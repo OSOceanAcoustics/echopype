{
  "cells": [
    {
      "cell_type": "markdown",
      "metadata": {},
      "source": [
        "(data-proc:additional)=\n",
        "# Additional information for processed data\n",
        "\n",
        "This page provide information on some aspects of processed data that may require additional explanation to fully understand the representation and underlying operations."
      ]
    },
    {
      "cell_type": "markdown",
      "metadata": {},
      "source": [
        "(data-proc:echo-range)=\n",
        "## Range of echo samples"
      ]
    },
    {
      "cell_type": "markdown",
      "metadata": {},
      "source": [
        "The calibration operation in `compute_Sv` generates a new data variable, `echo_range`, which is the physically meaningful range (in meters) of the echo samples.\n",
        "`echo_range` is computed from the `range_sample` coordinate (which contains 0-based indices of the digitized sample numbers of the received echoes) of the raw data in combination with the `sample_interval` in the `Sonar/Beam_groupX` group and sound speed either stored in the raw data file or provided by the user.\n",
        "Echopype assumes a constant sound and does not currently support the use a sound speed profile."
      ]
    },
    {
      "cell_type": "markdown",
      "metadata": {},
      "source": [
        "\n",
        "The computation for `echo_range` ($r$) is:\n",
        "\n",
        "$$\n",
        "r = N \\Delta r = N c \\tau / 2\n",
        "$$\n",
        "\n",
        "where $\\Delta r$ is the along-range \"length\" of each sample, $N$ is the index number in `range_sample`, $\\tau$ is the `sample_interval`, and $c$ is sound speed. The factor of 2 is due to the round-trip travel from the transmitter to the scatterer and back to the receiver."
      ]
    },
    {
      "cell_type": "markdown",
      "metadata": {},
      "source": [
        "Because `sample_interval` can be different for different channels, the resulting ``echo_range`` arrays can be different across channel even if they have the same number of digitized samples. This is illustrated in the sketch below, in which (**A**) shows the dimensions of the variable `backscatter_r` and (**B**) shows the varying values of `echo_range` that change depending on `sample_interval`. In this example, the `sample_interval` of the first channel is twice of that of the second and the third channel.\n",
        "\n",
        "![](./images/echo_range.png)"
      ]
    },
    {
      "cell_type": "markdown",
      "metadata": {},
      "source": [
        "(data-proc:z-variables)=\n",
        "## Vertical coordinate system variables"
      ]
    },
    {
      "cell_type": "markdown",
      "metadata": {},
      "source": [
        "The SONAR-netCDF4 v1 convention defines several variables in the `Platform` group that are referenced to a common Platform Coordinate System (PCS) vertical (_z_-axis) origin, ${PCS}_o$. These variables, when available, enable the calculation of accurate depth from the water surface or vertical distance for each backscatter measurement, as well for individual instruments."
      ]
    },
    {
      "cell_type": "markdown",
      "metadata": {},
      "source": [
        "The relevant variables defined in the convention are listed below together with their definitions from the convention, with edits as appropriate. The _z_ axis is positive-down from the platform origin ${PCS}_o$, and all variables except `vertical_offset` are defined with respect to ${PCS}_o$. All variables should be in meters.\n",
        "\n",
        "- `water_level`: Distance from the origin of the platform coordinate system to the *nominal* (fixed) water level measured along the _z_-axis of the platform coordinate system (positive values are below the origin).\n",
        "- `vertical_offset`: Time-varying distance from the *nominal* water level to the *actual* water level measured along the _z_-axis of the platform coordinate system (*positive values are when the actual water level is below the nominal water level*). For ships and similar, this is called *heave*, but the concept applies equally well to underwater vehicle depth.\n",
        "- `MRU_offset_z`: Distance along the _z_-axis from the platform coordinate system origin to the motion reference unit (MRU) sensor origin.\n",
        "- `position_offset_z`: Distance along the _z_-axis from the platform coordinate system origin to the latitude/longitude sensor origin.\n",
        "- `transducer_offset_z`: Distance along the _z_-axis from the platform coordinate system origin to the sonar transducer.\n",
        "\n",
        "Using these variables, the depth of the transducer with respect to the actual water level can be calculated as:\n",
        "\n",
        "```\n",
        "transducer_depth = transducer_offset_z - water_level - vertical_offset\n",
        "```\n",
        "\n",
        "and the depth for a given backscatter measurement is:\n",
        "\n",
        "```\n",
        "backscatter_depth = transducer_depth + echo_range_z\n",
        "```\n",
        "\n",
        "where `echo_range_z` is the _z_-axis component (positive down) of `echo_range`.\n",
        "\n",
        "For an echosounder in an underwater vehicle or moored on the seabed, a pressure sensor will provide the reference, time-varying depth, where ${PCS}_o$ corresponds to the pressure sensor. In this case, `water_level` as defined by the convention is unnecessary and can be set to 0, and `vertical_offset = - pressure_sensor_depth`."
      ]
    },
    {
      "cell_type": "markdown",
      "metadata": {},
      "source": [
        "For cases where the transducer does not point along a vertical direction (up or down), the `beam_direction_z` variable is defined by the convention in the `Sonar/Beam_groupX` group as the _z_-axis component of a unit vector. `beam_direction_z` should then be used together with `echo_range` to calculate `echo_range_z`."
      ]
    },
    {
      "cell_type": "markdown",
      "metadata": {},
      "source": [
        "<!-- ### ADD FIGURE -->"
      ]
    },
    {
      "cell_type": "markdown",
      "metadata": {},
      "source": []
    }
  ],
  "metadata": {
    "celltoolbar": "Tags",
    "interpreter": {
      "hash": "a292767406182d99a2458e67c2d2e96b524510c4a2166b4b423439fe75c32190"
    },
    "kernelspec": {
      "display_name": "Python 3 (ipykernel)",
      "language": "python",
      "name": "python3"
    },
    "language_info": {
      "codemirror_mode": {
        "name": "ipython",
        "version": 3
      },
      "file_extension": ".py",
      "mimetype": "text/x-python",
      "name": "python",
      "nbconvert_exporter": "python",
      "pygments_lexer": "ipython3",
      "version": "3.9.7"
    }
  },
  "nbformat": 4,
  "nbformat_minor": 4
}
