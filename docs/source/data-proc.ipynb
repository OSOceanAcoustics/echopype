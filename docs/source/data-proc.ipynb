{
 "cells": [
  {
   "cell_type": "markdown",
   "metadata": {},
   "source": [
    "(data-processing)=\n",
    "# Data Processing"
   ]
  },
  {
   "cell_type": "markdown",
   "metadata": {},
   "source": [
    "## Overview\n",
    "\n",
    "Echopype data processing funcionalities are structured into different subpackages with a series of [data processing levels](processing-levels) in mind. Once the data is converted from the raw instrument data files to standardized [`EchoData` objects](data-format:echodata-object) (or stored in `.zarr` or `.nc` format) and calibrated, the core input and output of most subsequent functions are standard [xarray `Dataset` objects](https://docs.xarray.dev/en/stable/generated/xarray.Dataset.html). This way, additonal processing functions can be easily added without needing to understand specialized objects."
   ]
  },
  {
   "cell_type": "markdown",
   "metadata": {},
   "source": [
    "## Summary of subpacakges\n",
    "\n",
    "Echopype currently contains the following data processing subpacakges:\n",
    "- [`calibrate`](echopype.calibrate): Transform raw instrument data into physicaly meaningful quantities, such as the volume backscattering strength (Sv)\n",
    "  - Narrowband Sv:\n",
    "    AZFP, EK60, and EK80 narrowband (\"CW\") mode transmission\n",
    "  - Broadband Sv average over the signal frequency band: EK80 broadband (\"FM\") mode transmission  \n",
    "- [`consolidate`](echopype.consolidate): Add additional information such as the geospatial locations, split-beam angle, etc to calibrated datasets. The source of information include:\n",
    "  - Data already stored in the `EchoData` object, and hence already stored in the raw instrument data files\n",
    "  - Quantities that can be computed from data stored in the `EchoData` object, e.g., for EK80 broadband data, split-beam angle can be computed from the complex samples\n",
    "  - External dataset, e.g., AZFP echosounders do not record geospatial data, but typically there is a companion dataset with GPS information\n",
    "- [`clean`](echopype.clean): Reduce variabilities in backscatter data by perform noise removal operations. Currently contains only a simple noise removal function implementing the algorithm in {cite}`DeRobertis2007_noise`.\n",
    "- [`commongrid`](echopype.commongrid): Enhance the spatial and temporal coherence of data. Currently contain functions to compute mean volume backscattering strength (MVBS) and nautical areal backscattering coefficients (NASC) that both result in gridded data at uniform spatial and temporal intervals.\n",
    "- [`qc`](echopype.qc): Handle unexpected irregularities in the data. Currently contains only functions to handle timestamp reversal in EK60/EK80 raw data.\n",
    "- [`mask`](echopype.mask): Create or apply mask to segment data\n",
    "- [`metrics`](echopype.metrics): Calculate simple summary statistics from data\n",
    "\n",
    "<!-- - Compute mean volume backscattering strength (MVBS) based on:\n",
    "  - ping time interval and range interval specified in physics units (seconds and meters, respectively) ([echopype.commongrid.compute_MVBS](echopype.commongrid.compute_MVBS))\n",
    "  - the number of pings and sample intervals (the `ping_time` and `range_sample` dimension, respectively) ([echopype.commongrid.compute_MVBS_index_binning](echopype.commongrid.compute_MVBS_index_binning)) -->"
   ]
  },
  {
   "cell_type": "markdown",
   "metadata": {},
   "source": [
    ":::{Note}\n",
    "The ``clean`` and ``commongrid`` subpackages were introduced in version 0.7.0.\n",
    "They contain functions previously found in the deprecated ``preprocess`` subpackage;\n",
    "``preprocess`` was removed in version 0.8.0.\n",
    ":::"
   ]
  },
  {
   "cell_type": "code",
   "execution_count": null,
   "metadata": {},
   "outputs": [],
   "source": [
    "import echopype as ep"
   ]
  },
  {
   "cell_type": "markdown",
   "metadata": {},
   "source": [
    "The use of these processing functions are summarized below:"
   ]
  },
  {
   "cell_type": "markdown",
   "metadata": {},
   "source": [
    "#### Calibration"
   ]
  },
  {
   "cell_type": "code",
   "execution_count": null,
   "metadata": {},
   "outputs": [],
   "source": [
    "import echopype as ep\n",
    "nc_path = './converted_files/file.nc'  # path to a converted nc file\n",
    "echodata = ep.open_converted(nc_path)  # create an EchoData object\n",
    "ds_Sv = ep.calibrate.compute_Sv(echodata)  # obtain a dataset containing Sv, echo_range, and\n",
    "                                           # the calibration and environmental parameters\n"
   ]
  },
  {
   "cell_type": "markdown",
   "metadata": {},
   "source": [
    ":::{Note}\n",
    "The calibration functions can require different input arguments depending on the echosounder (`sonar_model`). See [](data-processing:calibration) for detail.\n",
    ":::"
   ]
  },
  {
   "cell_type": "markdown",
   "metadata": {},
   "source": [
    "#### Nosie removal"
   ]
  },
  {
   "cell_type": "code",
   "execution_count": null,
   "metadata": {},
   "outputs": [],
   "source": [
    "# Remove noise\n",
    "ds_Sv_clean = ep.clean.remove_noise(    # obtain a denoised Sv dataset\n",
    "    ds_Sv,             # calibrated Sv dataset\n",
    "    range_sample_num=30,  # number of samples along the range_sample dimension for estimating noise\n",
    "    ping_num=5,        # number of pings for estimating noise\n",
    ")"
   ]
  },
  {
   "cell_type": "markdown",
   "metadata": {},
   "source": [
    "#### Reduce data by computing MVBS"
   ]
  },
  {
   "cell_type": "code",
   "execution_count": null,
   "metadata": {},
   "outputs": [],
   "source": [
    "# Reduce data based on physical units\n",
    "ds_MVBS = ep.commongrid.compute_MVBS(\n",
    "    ds_Sv,               # calibrated Sv dataset\n",
    "    range_meter_bin=20,  # bin size to average along echo_range in meters\n",
    "    ping_time_bin='20S'  # bin size to average along ping_time in seconds\n",
    ")\n",
    "\n",
    "# Reduce data based on sample number\n",
    "ds_MVBS = ep.commongrid.compute_MVBS_index_binning(\n",
    "    ds_Sv,             # calibrated Sv dataset\n",
    "    range_sample_num=30,  # number of sample bins to average along the range_sample dimensionm\n",
    "    ping_num=5         # number of pings to average\n",
    ")\n"
   ]
  },
  {
   "cell_type": "markdown",
   "metadata": {},
   "source": [
    "#### Saving results\n",
    "\n",
    "Typically echopype functions do not save the calculation resuls to disk, but the returned xarray `Dataset` can be saved using native xarray method such as `to_netcdf` and `to_zarr`. For the `EchoData` object we have implemented identical methods to allow saving raw converted data to disk. For example:"
   ]
  },
  {
   "cell_type": "code",
   "execution_count": null,
   "metadata": {},
   "outputs": [],
   "source": [
    "\n",
    "ed = ep.open_raw(...)\n",
    "ed.to_zarr(\"RAW_CONVERTED_FILENAME.zarr\")  # save data to Zarr format\n",
    "\n",
    "# Some processing functions that results in an xarray Dataset ds_Sv\n",
    "ds_Sv.to_netcdf(\"PROCESSED_FILENAME.nc\")  # save data to netCDF format"
   ]
  },
  {
   "cell_type": "markdown",
   "metadata": {},
   "source": [
    "(data-processing:calibration)=\n",
    "## Parameter considerations for calibrating data"
   ]
  },
  {
   "cell_type": "markdown",
   "metadata": {},
   "source": [
    "Calibration transforms raw data collected by the instrument into physically meaningful units by incorporating:\n",
    "- Calibration parameters (`cal_params`) instrinsic to the instrument and its settings\n",
    "- Environmental parameters (`env_params`), such as sound speed and absorption coefficient due to the physical environment\n",
    "\n",
    "Echopype also requires correct input argument combinations to calibrate data, due to intrinsic differences of the echosounders.\n",
    "\n",
    "These considerations are explained below."
   ]
  },
  {
   "cell_type": "markdown",
   "metadata": {},
   "source": [
    "### Input arguments\n",
    "\n",
    "#### AZFP and EK60 data\n",
    "For data from the AZFP and EK60 echosounders, since these instruments can only transmit narrowband data, you do not have to specify any additional argument when calibrating data, and the following should always work:\n",
    "```python\n",
    "ed = ep.open_raw(\"PATH_TO_RAW_FILE\", sonar_model=\"EK60\")\n",
    "ds_Sv = ep.calibrate.compute_Sv(ed)\n",
    "```\n",
    "\n",
    "#### EK80 data\n",
    "For data from the EK80 echosounder, since both narrowband and broadband transmissions are possible for different channels, and for narrowband transmissions the data can be stored in two forms, you need to specify argument combinations corresponding to the data you want to calibrate.\n",
    "\n",
    "For computing band-averaged Sv from broadband EK80 data, use\n",
    "```python\n",
    "ds_Sv = ep.calibrate.compute_Sv(ed, waveform_mode=\"BB\", encode_mode=\"complex\")\n",
    "```\n",
    "Here, `waveform_mode=\"BB\"` indicates that the data you want to calibrate are the channels set to do broadband transmissions. `encode_mode=\"complex\"` indicates that these data are stored as complex samples. The function will raise an error if there are no broadband data found in the provided `EchoData` object (`ed`).\n",
    "\n",
    "For computing narrowband Sv from narrowband EK80 data:\n",
    "- If the data is stored as complex samples, use\n",
    "    ```\n",
    "    ds_Sv = ep.calibrate.compute_Sv(ed, waveform_mode=\"CW\", encode_mode=\"complex\")\n",
    "    ```\n",
    "- If the data is stored as power/angle samples (this is the format that is equivalent to EK60 data), use\n",
    "    ```\n",
    "    ds_Sv = ep.calibrate.compute_Sv(ed, waveform_mode=\"CW\", encode_mode=\"power\")\n",
    "    ```"
   ]
  },
  {
   "cell_type": "markdown",
   "metadata": {},
   "source": [
    "### Calibration parameters\n",
    "\n",
    "<!-- For Simrad EK60 and EK80 echosounders, the data file usually already contains the required parameters that can be used directly in calbiration. However, it is not uncommon that custom `cal_params` and `env_params` are used when computing Sv, since parameters stored in the data files may not be the actual values (many of these parameters are manually entered in the instrument settings and remain static there). The AZFP echosounder requires externally supplied  -->\n"
   ]
  },
  {
   "cell_type": "code",
   "execution_count": null,
   "metadata": {},
   "outputs": [],
   "source": []
  }
 ],
 "metadata": {
  "celltoolbar": "Tags",
  "interpreter": {
   "hash": "a292767406182d99a2458e67c2d2e96b524510c4a2166b4b423439fe75c32190"
  },
  "kernelspec": {
   "display_name": "Python 3 (ipykernel)",
   "language": "python",
   "name": "python3"
  },
  "language_info": {
   "codemirror_mode": {
    "name": "ipython",
    "version": 3
   },
   "file_extension": ".py",
   "mimetype": "text/x-python",
   "name": "python",
   "nbconvert_exporter": "python",
   "pygments_lexer": "ipython3",
   "version": "3.10.12"
  }
 },
 "nbformat": 4,
 "nbformat_minor": 4
}
