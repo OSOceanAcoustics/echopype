{
 "cells": [
  {
   "cell_type": "markdown",
   "metadata": {},
   "source": [
    "(function:open-converted)=\n",
    "# Working with converted files"
   ]
  },
  {
   "cell_type": "markdown",
   "metadata": {},
   "source": [
    "## Open a converted netCDF or Zarr dataset"
   ]
  },
  {
   "cell_type": "markdown",
   "metadata": {},
   "source": [
    "Converted netCDF files can be opened with the `open_converted` function that returns a lazy-loaded [`EchoData` object](data-format:echodata-object) (only metadata are read during opening):"
   ]
  },
  {
   "cell_type": "markdown",
   "metadata": {},
   "source": [
    "```python\n",
    "import echopype as ep\n",
    "file_path = \"./converted_files/file.nc\"      # path to a converted nc file\n",
    "ed = ep.open_converted(file_path)            # create an EchoData object\n",
    "```"
   ]
  },
  {
   "cell_type": "markdown",
   "metadata": {},
   "source": [
    "Likewise, specify the path to open a Zarr dataset. To open such a dataset from cloud storage, use the same `storage_options` parameter as with [open_raw](convert.html#aws-s3-access). For example:"
   ]
  },
  {
   "cell_type": "markdown",
   "metadata": {},
   "source": [
    "```python\n",
    "s3_path = \"s3://s3bucketname/directory_path/dataset.zarr\"     # S3 dataset path\n",
    "ed = ep.open_converted(s3_path, storage_options={\"anon\": True})\n",
    "```"
   ]
  },
  {
   "cell_type": "markdown",
   "metadata": {},
   "source": [
    "## Combine EchoData objects"
   ]
  },
  {
   "cell_type": "markdown",
   "metadata": {},
   "source": [
    "Converted data found in multiple files corresponding to the same instrument deployment can be combined into a single `EchoData` object. First assemble a list of [`EchoData` objects](data-format:echodata-object) from the converted files (netCDF or Zarr). Then apply `combine_echodata` on this list to combine all the data into a single `EchoData` object in memory:"
   ]
  },
  {
   "cell_type": "markdown",
   "metadata": {},
   "source": [
    "```python\n",
    "ed_list = []\n",
    "for converted_file in [\"convertedfile1.nc\", \"convertedfile2.nc\"]:\n",
    "   ed_list.append(ep.open_converted(converted_file))\n",
    "\n",
    "combined_ed = ep.combine_echodata(ed_list)\n",
    "```"
   ]
  },
  {
   "cell_type": "markdown",
   "metadata": {},
   "source": [
    ":::{Warning}\n",
    "We are aware that the `combine_echodata` method may result in memory problems when the [`EchoData` objects](data-format:echodata-object) hold large amount of data. This is an issue we are actively working on.\n",
    ":::"
   ]
  },
  {
   "cell_type": "code",
   "execution_count": null,
   "metadata": {},
   "outputs": [],
   "source": []
  }
 ],
 "metadata": {
  "celltoolbar": "Tags",
  "interpreter": {
   "hash": "a292767406182d99a2458e67c2d2e96b524510c4a2166b4b423439fe75c32190"
  },
  "kernelspec": {
   "display_name": "Python 3 (ipykernel)",
   "language": "python",
   "name": "python3"
  },
  "language_info": {
   "codemirror_mode": {
    "name": "ipython",
    "version": 3
   },
   "file_extension": ".py",
   "mimetype": "text/x-python",
   "name": "python",
   "nbconvert_exporter": "python",
   "pygments_lexer": "ipython3",
   "version": "3.9.7"
  }
 },
 "nbformat": 4,
 "nbformat_minor": 4
}
