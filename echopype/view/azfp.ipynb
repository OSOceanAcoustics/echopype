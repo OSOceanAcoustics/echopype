version https://git-lfs.github.com/spec/v1
oid sha256:29bc3ba41f5a586739498f76a09ca2aac72eda0a8c3feb7803d6d50fc4e6afc7
size 885992
