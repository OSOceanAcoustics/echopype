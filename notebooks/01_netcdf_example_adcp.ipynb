version https://git-lfs.github.com/spec/v1
oid sha256:5c376cb624f81f62f7863999726dcca30448930dd6def8ee8b83f37087fee2a4
size 725969
