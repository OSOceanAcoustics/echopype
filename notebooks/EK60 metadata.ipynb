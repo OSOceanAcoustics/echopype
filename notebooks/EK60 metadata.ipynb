version https://git-lfs.github.com/spec/v1
oid sha256:ce0bc6c3093e3940b7a02cf6753ebe866f0a17e699e1b8680c92a12b71b91972
size 11998
