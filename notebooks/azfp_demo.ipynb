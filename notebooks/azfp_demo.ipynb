version https://git-lfs.github.com/spec/v1
oid sha256:dc6d96720aba46f2a6aec3f0973358ea36ae4817d215bfb55a52f78474729eb2
size 2415259
