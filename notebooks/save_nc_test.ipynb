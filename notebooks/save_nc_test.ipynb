version https://git-lfs.github.com/spec/v1
oid sha256:aba92ff8563304b79507896c34b8f9fc33b71d6a2c1c7e2fd21c14b0e1ad0e7a
size 37574
