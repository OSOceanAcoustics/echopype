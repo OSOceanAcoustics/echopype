version https://git-lfs.github.com/spec/v1
oid sha256:79de02b0ffe93b37f5b4b6871327a53665a2d7e1957c3c9aef18a68b10943c71
size 2096130
