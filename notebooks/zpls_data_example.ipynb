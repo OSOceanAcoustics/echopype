version https://git-lfs.github.com/spec/v1
oid sha256:8565dac353b01c806eb65c42cdfffa9e1461feb94d3a22824ad16f3b04b2beba
size 2209781
